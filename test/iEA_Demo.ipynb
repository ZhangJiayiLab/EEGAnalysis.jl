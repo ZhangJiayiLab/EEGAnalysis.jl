{
 "cells": [
  {
   "cell_type": "code",
   "execution_count": null,
   "metadata": {},
   "outputs": [],
   "source": []
  },
  {
   "cell_type": "code",
   "execution_count": 10,
   "metadata": {},
   "outputs": [
    {
     "name": "stderr",
     "output_type": "stream",
     "text": [
      "WARNING: replacing module EEGAnalysis.\n"
     ]
    },
    {
     "data": {
      "text/plain": [
       "Plots.GRBackend()"
      ]
     },
     "execution_count": 10,
     "metadata": {},
     "output_type": "execute_result"
    }
   ],
   "source": [
    "include(\"../src/EEGAnalysis.jl\")\n",
    "using MAT\n",
    "using DSP\n",
    "using Printf\n",
    "using Plots\n",
    "gr(fmt=\"png\", size=(512,384))  # 8:6"
   ]
  },
  {
   "cell_type": "markdown",
   "metadata": {},
   "source": [
    "## import EDF data"
   ]
  },
  {
   "cell_type": "code",
   "execution_count": 3,
   "metadata": {},
   "outputs": [
    {
     "name": "stdout",
     "output_type": "stream",
     "text": [
      "  0.149297 seconds (29.61 k allocations: 74.159 MiB, 11.93% gc time)\n"
     ]
    }
   ],
   "source": [
    "@time a = EEGAnalysis.loadedf(\"../../Data/Yunfan Shu/EEG/EDF/16_3.edf\");"
   ]
  },
  {
   "cell_type": "markdown",
   "metadata": {},
   "source": [
    "## Butterworth bandapss filter"
   ]
  },
  {
   "cell_type": "code",
   "execution_count": null,
   "metadata": {},
   "outputs": [],
   "source": [
    "# responsetype = Bandpass(30, 80; fs=2000)\n",
    "responsetype = Highpass(300, fs=2000)\n",
    "\n",
    "designmethod = Butterworth(4)\n",
    "# designmethod = FIRWindow(hanning(64))\n",
    "\n",
    "x = filtfilt(digitalfilter(responsetype, designmethod), a.data[:,90])\n",
    "\n",
    "plot(a.tspec, x, legend=false, size=(1024, 256), xlims=(5, 20), ylims=(-50, 50))"
   ]
  },
  {
   "cell_type": "code",
   "execution_count": 11,
   "metadata": {},
   "outputs": [
    {
     "ename": "ArgumentError",
     "evalue": "ArgumentError: invalid index: 2000.0 of type Float64",
     "output_type": "error",
     "traceback": [
      "ArgumentError: invalid index: 2000.0 of type Float64",
      "",
      "Stacktrace:",
      " [1] to_index(::Float64) at ./indices.jl:241",
      " [2] to_index(::Array{Float64,1}, ::Float64) at ./indices.jl:222",
      " [3] to_indices at ./indices.jl:269 [inlined]",
      " [4] to_indices at ./indices.jl:266 [inlined]",
      " [5] getindex at ./abstractarray.jl:913 [inlined]",
      " [6] macro expansion at ./multidimensional.jl:618 [inlined]",
      " [7] macro expansion at ./cartesian.jl:64 [inlined]",
      " [8] macro expansion at ./multidimensional.jl:613 [inlined]",
      " [9] _unsafe_getindex! at ./multidimensional.jl:609 [inlined]",
      " [10] _unsafe_getindex at ./multidimensional.jl:603 [inlined]",
      " [11] _getindex at ./multidimensional.jl:589 [inlined]",
      " [12] getindex at ./abstractarray.jl:913 [inlined]",
      " [13] gaussianwind(::Array{Int16,1}, ::Float64, ::Float64) at /Users/yizhan/Desktop/Observer/EEGAnalysis.jl/src/Filter.jl:9",
      " [14] top-level scope at In[11]:1"
     ]
    }
   ],
   "source": [
    "EEGAnalysis.gaussianwind(a.data[:,1], 2000.0, 0.2)"
   ]
  },
  {
   "cell_type": "code",
   "execution_count": null,
   "metadata": {},
   "outputs": [],
   "source": []
  }
 ],
 "metadata": {
  "kernelspec": {
   "display_name": "Julia 0.7.0",
   "language": "julia",
   "name": "julia-0.7"
  },
  "language_info": {
   "file_extension": ".jl",
   "mimetype": "application/julia",
   "name": "julia",
   "version": "0.7.0"
  }
 },
 "nbformat": 4,
 "nbformat_minor": 2
}
